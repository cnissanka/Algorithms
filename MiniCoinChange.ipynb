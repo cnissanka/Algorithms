{
 "cells": [
  {
   "cell_type": "markdown",
   "metadata": {},
   "source": [
    "# Solution for Minimum Coin Change Problem \n",
    "\n",
    "This is a common problem in CS and has multiple solutions, here is my approach on the topic. This algorithm is based on recursion and a bit of sorting. https://en.wikipedia.org/wiki/Change-making_problem has several approaches that are taken in solving these types of problems. \n",
    "\n",
    "## Problem Statement\n",
    "\n",
    "       Given a target amount of n and a list (array) of distinct coin values, what's the fewest coins needed to make change  the amount. \n",
    "       \n",
    "       For example, \n",
    "       If n = 10 and coins = [1,5,10]. Then there are 4 possible ways to make change: \n",
    "       \n",
    "       1+1+1+1+1+1+1+1+1+1\n",
    "       5+1+1+1+1 \n",
    "       5+5\n",
    "       10\n",
    "       \n",
    "       With 1 coin being the minimum amount \n",
    "       \n",
    "       \n",
    "## Solution (My way) \n",
    "\n"
   ]
  },
  {
   "cell_type": "code",
   "execution_count": 6,
   "metadata": {},
   "outputs": [
    {
     "name": "stdout",
     "output_type": "stream",
     "text": [
      "Minimum coins needed for changing 10 is 1\n"
     ]
    }
   ],
   "source": [
    "# i is the value to be changed\n",
    "# l is the coin types avaliable \n",
    "def change_cal(i,l=[2,5,10],unsorted=True):\n",
    "    #Sort array in the first call in descending order\n",
    "    if unsorted:\n",
    "        l = sorted(l,reverse=True) \n",
    "        unsorted = False \n",
    "    # Largest element of the array is l[0], because l is sorted\n",
    "    # Base case function \n",
    "    for x in l:\n",
    "        if i-x == 0:\n",
    "            return [x]\n",
    "    # Test whether the max of l can be used, if so use an call the function for i-x (recursive call)\n",
    "    if ((i - l[0] ) > 0): \n",
    "        return [l[0] , change_cal(i-l[0],l,unsorted)] \n",
    "    else:\n",
    "        # Otherwise use the other values in l \n",
    "        for x in l:\n",
    "            if (i - x) > 0:\n",
    "                # Add to array and call the function for i-x\n",
    "                return [x, change_cal(i-x, l,unsorted)]  \n",
    "\n",
    "# Demo \n",
    "i=10\n",
    "print(\"Minimum coins needed for changing {} is {}\".format(i,len(change_cal(i))))"
   ]
  },
  {
   "cell_type": "code",
   "execution_count": null,
   "metadata": {},
   "outputs": [],
   "source": []
  }
 ],
 "metadata": {
  "kernelspec": {
   "display_name": "Python 3",
   "language": "python",
   "name": "python3"
  },
  "language_info": {
   "codemirror_mode": {
    "name": "ipython",
    "version": 3
   },
   "file_extension": ".py",
   "mimetype": "text/x-python",
   "name": "python",
   "nbconvert_exporter": "python",
   "pygments_lexer": "ipython3",
   "version": "3.5.2"
  }
 },
 "nbformat": 4,
 "nbformat_minor": 2
}
